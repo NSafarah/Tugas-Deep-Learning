{
 "cells": [
  {
   "cell_type": "code",
   "execution_count": 1,
   "metadata": {},
   "outputs": [
    {
     "name": "stdout",
     "output_type": "stream",
     "text": [
      "Nadia Safarah\n"
     ]
    }
   ],
   "source": [
    "print (\"Nadia Safarah\")"
   ]
  },
  {
   "cell_type": "code",
   "execution_count": 2,
   "metadata": {},
   "outputs": [
    {
     "name": "stdout",
     "output_type": "stream",
     "text": [
      "Nadia Safarah\n"
     ]
    }
   ],
   "source": [
    "#Mencetak nama\n",
    "print (\"Nadia Safarah\")"
   ]
  },
  {
   "cell_type": "code",
   "execution_count": 4,
   "metadata": {},
   "outputs": [
    {
     "name": "stdout",
     "output_type": "stream",
     "text": [
      "True\n",
      "Dhea\n",
      "Dhea\n",
      "16\n",
      "3.14\n",
      "5j\n",
      "[1, 2, 3, 4, 5, 6]\n",
      "['satu', 'dua', 'tiga']\n",
      "(1, 2, 3, 4, 5, 6)\n",
      "('satu', 'dua', 'tiga')\n",
      "{'nama': 'Nadia', 'umur': 18}\n",
      "{'nama': 'Nadia', 'umur': 18}\n"
     ]
    },
    {
     "data": {
      "text/plain": [
       "dict"
      ]
     },
     "execution_count": 4,
     "metadata": {},
     "output_type": "execute_result"
    }
   ],
   "source": [
    "#Tipe data boolean\n",
    "print(True)\n",
    "\n",
    "#Tipe data string\n",
    "print(\"Dhea\")\n",
    "print('Dhea')\n",
    "\n",
    "#Tipe data integer\n",
    "print(16)\n",
    "\n",
    "#Tipe data float\n",
    "print(3.14)\n",
    "\n",
    "#Tipe data complex\n",
    "print(5j)\n",
    "\n",
    "#Tipe data list\n",
    "print([1,2,3,4,5,6])\n",
    "print([\"satu\",\"dua\",\"tiga\"])\n",
    "\n",
    "#Tipe data tuple\n",
    "print((1,2,3,4,5,6))\n",
    "print((\"satu\",\"dua\",\"tiga\"))\n",
    "\n",
    "#Tipe data dictionary\n",
    "print({\"nama\":\"Nadia\", 'umur':18})\n",
    "\n",
    "#tipe data Dictionary dimasukan ke dalam variabel biodata\n",
    "biodata = {\"nama\":\"Nadia\", 'umur':18} #proses inisialisasi variabel biodata\n",
    "print(biodata) #proses pencetakan variabel biodata yang berisi tipe data Dictionary\n",
    "type(biodata) #fungsi untuk mengecek jenis tipe data. akan tampil <class 'dict'> yang berarti dict adalah tipe data dictionary"
   ]
  },
  {
   "cell_type": "code",
   "execution_count": 5,
   "metadata": {},
   "outputs": [
    {
     "name": "stdout",
     "output_type": "stream",
     "text": [
      "Nadia Safarah\n",
      "21\n",
      "dua puluh satu\n",
      "Biodata\n",
      " Nadia Safarah \n",
      " 21 \n",
      " Masak\n",
      "50\n"
     ]
    }
   ],
   "source": [
    "#proses memasukan data ke dalam variabel\n",
    "nama = \"Nadia Safarah\"\n",
    "#proses mencetak variabel\n",
    "print(nama)\n",
    "\n",
    "#nilai dan tipe data dalam variabel  dapat diubah\n",
    "umur = 21               #nilai awal\n",
    "print(umur)             #mencetak nilai umur\n",
    "type(umur)              #mengecek tipe data umur\n",
    "umur = \"dua puluh satu\" #nilai setelah diubah\n",
    "print(umur)             #mencetak nilai umur\n",
    "type(umur)              #mengecek tipe data umur\n",
    "\n",
    "namaDepan = \"Nadia\"\n",
    "namaBelakang = \"Safarah\"\n",
    "nama = namaDepan + \" \" + namaBelakang\n",
    "umur = 21\n",
    "hobi = \"Masak\"\n",
    "print(\"Biodata\\n\", nama, \"\\n\", umur, \"\\n\", hobi)\n",
    "\n",
    "#contoh variabel lainya\n",
    "inivariabel = \"Halo\"\n",
    "ini_juga_variabel = \"Hai\"\n",
    "_inivariabeljuga = \"Hi\"\n",
    "inivariabel222 = \"Bye\" \n",
    "\n",
    "panjang = 10\n",
    "lebar = 5\n",
    "luas = panjang * lebar\n",
    "print(luas)"
   ]
  },
  {
   "cell_type": "code",
   "execution_count": null,
   "metadata": {},
   "outputs": [],
   "source": []
  }
 ],
 "metadata": {
  "kernelspec": {
   "display_name": "Python 3",
   "language": "python",
   "name": "python3"
  },
  "language_info": {
   "codemirror_mode": {
    "name": "ipython",
    "version": 3
   },
   "file_extension": ".py",
   "mimetype": "text/x-python",
   "name": "python",
   "nbconvert_exporter": "python",
   "pygments_lexer": "ipython3",
   "version": "3.6.2"
  }
 },
 "nbformat": 4,
 "nbformat_minor": 2
}
